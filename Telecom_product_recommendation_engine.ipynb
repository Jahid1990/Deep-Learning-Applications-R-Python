{
  "nbformat": 4,
  "nbformat_minor": 0,
  "metadata": {
    "kernelspec": {
      "display_name": "Python 3",
      "language": "python",
      "name": "python3"
    },
    "language_info": {
      "codemirror_mode": {
        "name": "ipython",
        "version": 3
      },
      "file_extension": ".py",
      "mimetype": "text/x-python",
      "name": "python",
      "nbconvert_exporter": "python",
      "pygments_lexer": "ipython3",
      "version": "3.7.3"
    },
    "colab": {
      "name": "Telecom product recommendation engine.ipynb",
      "provenance": [],
      "collapsed_sections": [],
      "include_colab_link": true
    },
    "accelerator": "GPU"
  },
  "cells": [
    {
      "cell_type": "markdown",
      "metadata": {
        "id": "view-in-github",
        "colab_type": "text"
      },
      "source": [
        "<a href=\"https://colab.research.google.com/github/Jahid1990/Deep-Learning-Applications-R-Python/blob/master/Telecom_product_recommendation_engine.ipynb\" target=\"_parent\"><img src=\"https://colab.research.google.com/assets/colab-badge.svg\" alt=\"Open In Colab\"/></a>"
      ]
    },
    {
      "cell_type": "markdown",
      "metadata": {
        "id": "E3vWSd7LrDmh",
        "colab_type": "text"
      },
      "source": [
        "# Load required packes and libraries"
      ]
    },
    {
      "cell_type": "code",
      "metadata": {
        "id": "xYEwGGMSrDmk",
        "colab_type": "code",
        "colab": {}
      },
      "source": [
        "#import cx_Oracle\n",
        "import pandas as pd\n",
        "import keras\n",
        "import numpy as np\n",
        "from keras import layers\n",
        "from keras.layers import Input, LSTM, Dense,Conv1D,MaxPooling1D,Flatten,Embedding\n",
        "from keras.layers import TimeDistributed\n",
        "from keras.models import Model\n",
        "from keras import metrics\n",
        "from sklearn import preprocessing\n",
        "import pickle"
      ],
      "execution_count": null,
      "outputs": []
    },
    {
      "cell_type": "markdown",
      "metadata": {
        "id": "cDkiOIZZtZ7_",
        "colab_type": "text"
      },
      "source": [
        "# Mount google drive in Colab. You can Ignore this part\n"
      ]
    },
    {
      "cell_type": "code",
      "metadata": {
        "id": "HqQO26V5rL52",
        "colab_type": "code",
        "colab": {}
      },
      "source": [
        "# from google.colab import drive\n",
        "# drive.mount('/content/drive')"
      ],
      "execution_count": null,
      "outputs": []
    },
    {
      "cell_type": "markdown",
      "metadata": {
        "id": "D1nOvSucrDot",
        "colab_type": "text"
      },
      "source": [
        "# Saving & loading data to/from PC"
      ]
    },
    {
      "cell_type": "code",
      "metadata": {
        "id": "cusXzCtqrDov",
        "colab_type": "code",
        "colab": {}
      },
      "source": [
        "# with open(r'training_data_pack_reco_new.pickle', 'wb') as f:\n",
        "#      pickle.dump([x_train,y_train,x_test,y_test], f)"
      ],
      "execution_count": null,
      "outputs": []
    },
    {
      "cell_type": "code",
      "metadata": {
        "id": "MKctbOhzrDo9",
        "colab_type": "code",
        "colab": {}
      },
      "source": [
        "with open(r'/content/drive/My Drive/training_data_pack_reco_new_with_rcg_info.pickle', 'rb') as f:\n",
        "    [x_train,y_train,x_test,y_test]= pickle.load(f)"
      ],
      "execution_count": null,
      "outputs": []
    },
    {
      "cell_type": "markdown",
      "metadata": {
        "id": "AUNy7Kv8rDpe",
        "colab_type": "text"
      },
      "source": [
        "# Model Building"
      ]
    },
    {
      "cell_type": "code",
      "metadata": {
        "id": "f32jJul8rDpg",
        "colab_type": "code",
        "colab": {}
      },
      "source": [
        "from keras.layers import Concatenate\n",
        "\n",
        "inputs = Input(shape=(x_train.shape[1],))\n",
        "shared=Dense(1024,activation='relu')(inputs)\n",
        "shared=Dense(1024,activation='relu')(shared)\n",
        "shared=Dense(512,activation='relu')(shared)\n",
        "shared=Dense(512,activation='relu')(shared)\n",
        "shared=Dense(512,activation='relu')(shared)\n",
        "shared=Dense(512,activation='relu')(shared)\n",
        "shared=Dense(512,activation='relu')(shared)\n",
        "shared=Dense(512,activation='relu')(shared)\n",
        "shared=Dense(512,activation='relu')(shared)\n",
        "shared=Dense(512,activation='relu')(shared)\n",
        "shared=Dense(512,activation='relu')(shared)\n",
        "\n",
        "pack=Dense(512,activation='relu')(shared)\n",
        "pack=Dense(512,activation='relu')(pack)\n",
        "pack=Dense(512,activation='relu')(pack)\n",
        "pack=Dense(512,activation='relu')(pack)\n",
        "pack=Dense(512,activation='relu')(pack)\n",
        "pack=Dense(512,activation='relu')(pack)\n",
        "pack=Dense(512,activation='relu')(pack)\n",
        "pack=Dense(512,activation='relu')(pack)\n",
        "pack=Dense(512,activation='relu')(pack)\n",
        "pack=Dense(512,activation='relu')(pack)\n",
        "pack=Dense(512,activation='relu')(pack)\n",
        "pack=Dense(512,activation='tanh')(pack)\n",
        "pack=Dense(16,activation='softmax',name='pack')(pack)\n",
        "\n",
        "day=Dense(512,activation='relu')(shared)\n",
        "day=Dense(512,activation='relu')(day)\n",
        "day=Dense(512,activation='relu')(day)\n",
        "day=Dense(512,activation='relu')(day)\n",
        "day=Dense(256,activation='relu')(day)\n",
        "day=Dense(128,activation='tanh')(day)\n",
        "day=Dense(32,activation='softmax',name='day')(day)\n",
        "\n",
        "\n",
        "model=Model(inputs=inputs,outputs=[pack,day])\n",
        "#model.summary()"
      ],
      "execution_count": null,
      "outputs": []
    },
    {
      "cell_type": "code",
      "metadata": {
        "id": "PDNqoXPErDpr",
        "colab_type": "code",
        "colab": {}
      },
      "source": [
        "from keras import optimizers\n",
        "adm=optimizers.Adam( lr=0.001,beta_1=0.9, beta_2=0.999, amsgrad=False)"
      ],
      "execution_count": null,
      "outputs": []
    },
    {
      "cell_type": "code",
      "metadata": {
        "id": "kn_GH05irDpz",
        "colab_type": "code",
        "colab": {}
      },
      "source": [
        "from keras.callbacks import EarlyStopping, ModelCheckpoint, TensorBoard\n",
        "checkpoint = ModelCheckpoint('/content/drive/My Drive/pack_reco_engine_new_with_rcg_info.h5', \n",
        "                             monitor='val_loss', \n",
        "                             verbose=1, \n",
        "                             save_best_only=True, \n",
        "                             mode='min', \n",
        "                             period=1)"
      ],
      "execution_count": null,
      "outputs": []
    },
    {
      "cell_type": "code",
      "metadata": {
        "scrolled": true,
        "id": "B0_V-4KDrDqS",
        "colab_type": "code",
        "colab": {}
      },
      "source": [
        "#[x_test,[y_test[:,:16],y_test[:,16:]]]\n",
        "model.compile(loss=['categorical_crossentropy','categorical_crossentropy'],optimizer='Adam', metrics=['accuracy'])\n",
        "model.fit(x_train, [y_train[:,:16],y_train[:,16:]] ,epochs=100,validation_split=.2,verbose=1,batch_size=512,callbacks=[checkpoint])"
      ],
      "execution_count": null,
      "outputs": []
    },
    {
      "cell_type": "code",
      "metadata": {
        "id": "Bhc9xPEPrDqm",
        "colab_type": "code",
        "colab": {}
      },
      "source": [
        "import numpy as np\n",
        "import tensorflow as tf\n",
        "\n",
        "np.set_printoptions(suppress=True)\n",
        "loaded_model = tf.keras.models.load_model('/content/drive/My Drive/pack_reco_engine_new_with_rcg_info.h5')\n",
        "\n",
        "p=loaded_model.predict(x_test)"
      ],
      "execution_count": null,
      "outputs": []
    },
    {
      "cell_type": "code",
      "metadata": {
        "id": "N5ANgI3XSXpI",
        "colab_type": "code",
        "colab": {}
      },
      "source": [
        "pd.set_option('display.max_columns', 500)\n",
        "pred=pd.DataFrame(p[0])\n",
        "pred.head()"
      ],
      "execution_count": null,
      "outputs": []
    },
    {
      "cell_type": "markdown",
      "metadata": {
        "id": "MIBHRCRbYKsW",
        "colab_type": "text"
      },
      "source": [
        "# Select TOP 3 "
      ]
    },
    {
      "cell_type": "code",
      "metadata": {
        "id": "6V-TgGUhgHaV",
        "colab_type": "code",
        "colab": {}
      },
      "source": [
        "top3=np.argsort(-p[0])[:,:3]\n",
        "#pd.DataFrame(top3)\n",
        "ytest=np.argmax(y_test[:,:16],axis=1)\n",
        "\n",
        "val=[]\n",
        "for i in range(y_test.shape[0]):\n",
        "  if ytest[i] in top3[i]:\n",
        "    val.append(1)\n",
        "  else:\n",
        "    val.append(0)"
      ],
      "execution_count": null,
      "outputs": []
    },
    {
      "cell_type": "code",
      "metadata": {
        "id": "gsLOXq6icuVS",
        "colab_type": "code",
        "colab": {
          "base_uri": "https://localhost:8080/",
          "height": 69
        },
        "outputId": "bd8b347a-585e-4882-ad15-7a86fb971cbd"
      },
      "source": [
        "pd.Series(val).value_counts()/(221887+27359)"
      ],
      "execution_count": null,
      "outputs": [
        {
          "output_type": "execute_result",
          "data": {
            "text/plain": [
              "1    0.890233\n",
              "0    0.109767\n",
              "dtype: float64"
            ]
          },
          "metadata": {
            "tags": []
          },
          "execution_count": 9
        }
      ]
    },
    {
      "cell_type": "code",
      "metadata": {
        "id": "ia8oqokDcVLJ",
        "colab_type": "code",
        "colab": {}
      },
      "source": [
        "pd.crosstab(val,ytest)"
      ],
      "execution_count": null,
      "outputs": []
    },
    {
      "cell_type": "code",
      "metadata": {
        "id": "RALKcZrIrDq5",
        "colab_type": "code",
        "colab": {}
      },
      "source": [
        "pred_class=np.argmax(p[0], axis=1)"
      ],
      "execution_count": null,
      "outputs": []
    },
    {
      "cell_type": "code",
      "metadata": {
        "id": "UCjeGOt6rDrA",
        "colab_type": "code",
        "colab": {}
      },
      "source": [
        "actual=np.argmax(y_test[:,:16],axis=1)"
      ],
      "execution_count": null,
      "outputs": []
    },
    {
      "cell_type": "code",
      "metadata": {
        "id": "OF8k9FoCrDrK",
        "colab_type": "code",
        "colab": {}
      },
      "source": [
        "pd.crosstab(pred_class,actual)"
      ],
      "execution_count": null,
      "outputs": []
    },
    {
      "cell_type": "code",
      "metadata": {
        "id": "Wbn1L9oGrDrQ",
        "colab_type": "code",
        "colab": {}
      },
      "source": [
        "from sklearn.metrics import classification_report\n",
        "print(classification_report(val,ytest))"
      ],
      "execution_count": null,
      "outputs": []
    },
    {
      "cell_type": "code",
      "metadata": {
        "id": "eO-HhW1so9fV",
        "colab_type": "code",
        "colab": {}
      },
      "source": [
        "act=np.argmax(y_test[:,:16],axis=1)\n",
        "pd.Series(act).value_counts()"
      ],
      "execution_count": null,
      "outputs": []
    },
    {
      "cell_type": "code",
      "metadata": {
        "id": "YfNzChWJrDrX",
        "colab_type": "code",
        "colab": {}
      },
      "source": [
        "pd.Series(pred_class).value_counts()"
      ],
      "execution_count": null,
      "outputs": []
    }
  ]
}
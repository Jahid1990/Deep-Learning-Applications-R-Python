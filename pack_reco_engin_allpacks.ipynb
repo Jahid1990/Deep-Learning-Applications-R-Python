{
  "nbformat": 4,
  "nbformat_minor": 0,
  "metadata": {
    "colab": {
      "name": "pack reco engin_allpacks.ipynb",
      "provenance": [],
      "collapsed_sections": [],
      "mount_file_id": "1971rNsJNE5lr2vxAr7mlLTwS9OOpMqFN",
      "authorship_tag": "ABX9TyMbGtwW5sVxHxBEbSaYYpCx",
      "include_colab_link": true
    },
    "kernelspec": {
      "name": "python3",
      "display_name": "Python 3"
    },
    "accelerator": "GPU"
  },
  "cells": [
    {
      "cell_type": "markdown",
      "metadata": {
        "id": "view-in-github",
        "colab_type": "text"
      },
      "source": [
        "<a href=\"https://colab.research.google.com/github/Jahid1990/Deep-Learning-Applications-R-Python/blob/master/pack_reco_engin_allpacks.ipynb\" target=\"_parent\"><img src=\"https://colab.research.google.com/assets/colab-badge.svg\" alt=\"Open In Colab\"/></a>"
      ]
    },
    {
      "cell_type": "code",
      "metadata": {
        "id": "blEmVuyyoWoo"
      },
      "source": [
        "import pandas as pd\n",
        "import keras\n",
        "import numpy as np\n",
        "from keras import layers\n",
        "from keras.layers import Input, LSTM, Dense,Conv1D,MaxPooling1D,Flatten,Embedding\n",
        "from keras.layers import TimeDistributed\n",
        "from keras.models import Model\n",
        "from keras import metrics\n",
        "from sklearn import preprocessing\n",
        "import pickle"
      ],
      "execution_count": 1,
      "outputs": []
    },
    {
      "cell_type": "code",
      "metadata": {
        "id": "P_jTD_9lpA34",
        "outputId": "4f1ca94a-ed53-4421-cdf3-47d09e413d2f",
        "colab": {
          "base_uri": "https://localhost:8080/",
          "height": 159
        }
      },
      "source": [
        "import math\n",
        "from sklearn.model_selection import train_test_split\n",
        "with open(r'/content/drive/My Drive/training_data_pack_reco_allpacks.pickle', 'rb') as f:\n",
        "  data= pickle.load(f).sample(n=2500000)\n",
        "  x_train, x_test, y_train, y_test = train_test_split(data.iloc[:,:169],data.iloc[:,169], test_size=0.3, random_state=42)\n",
        "  print(\" Shape of X train:\")\n",
        "  print(x_train.shape)\n",
        "  print(\" Shape of y train:\")\n",
        "  print(y_train.shape)\n",
        "  print(\" Shape of X test:\")\n",
        "  print(x_test.shape)\n",
        "  print(\" Shape of y test:\")\n",
        "  print(y_test.shape)\n",
        "  del data"
      ],
      "execution_count": 2,
      "outputs": [
        {
          "output_type": "stream",
          "text": [
            " Shape of X train:\n",
            "(1750000, 169)\n",
            " Shape of y train:\n",
            "(1750000,)\n",
            " Shape of X test:\n",
            "(750000, 169)\n",
            " Shape of y test:\n",
            "(750000,)\n"
          ],
          "name": "stdout"
        }
      ]
    },
    {
      "cell_type": "code",
      "metadata": {
        "id": "DJqedbikdTWV"
      },
      "source": [
        "#data.groupby(['RECHARGE_AMOUNT']).sample(n=2,replace=True)"
      ],
      "execution_count": 3,
      "outputs": []
    },
    {
      "cell_type": "code",
      "metadata": {
        "id": "4KQHv6T4p-OM"
      },
      "source": [
        "# import math\n",
        "# from sklearn.model_selection import train_test_split\n",
        "# x_train, x_test, y_train, y_test = train_test_split(pickle.load(f).iloc[:,:169],pickle.load(f).iloc[:,169], test_size=0.3, random_state=42)\n",
        "# print(\" Shape of X train:\")\n",
        "# print(x_train.shape)\n",
        "# print(\" Shape of y train:\")\n",
        "# print(y_train.shape)\n",
        "# print(\" Shape of X test:\")\n",
        "# print(x_test.shape)\n",
        "# print(\" Shape of y test:\")\n",
        "# print(y_test.shape)\n",
        "# del data"
      ],
      "execution_count": 10,
      "outputs": []
    },
    {
      "cell_type": "code",
      "metadata": {
        "id": "9xC-rbNbuFtu"
      },
      "source": [
        "y_train=pd.get_dummies(y_train)\n",
        "y_test=pd.get_dummies(y_test)"
      ],
      "execution_count": 9,
      "outputs": []
    },
    {
      "cell_type": "code",
      "metadata": {
        "id": "tvp9SbRxt5-y"
      },
      "source": [
        "scaler = preprocessing.MinMaxScaler()\n",
        "x_train = scaler.fit_transform(x_train)\n",
        "x_test = scaler.fit_transform(x_test)"
      ],
      "execution_count": 10,
      "outputs": []
    },
    {
      "cell_type": "code",
      "metadata": {
        "id": "fZVWpTOEudwp"
      },
      "source": [
        "from keras.layers import Concatenate\n",
        "inputs = Input(shape=(x_train.shape[1],))\n",
        "pack=Dense(1024,activation='relu')(inputs)\n",
        "pack=Dense(1024,activation='relu')(pack)\n",
        "pack=Dense(1024,activation='relu')(pack)\n",
        "pack=Dense(512,activation='relu')(pack)\n",
        "pack=Dense(512,activation='relu')(pack)\n",
        "pack=Dense(512,activation='relu')(pack)\n",
        "pack=Dense(512,activation='relu')(pack)\n",
        "pack=Dense(512,activation='relu')(pack)\n",
        "pack=Dense(512,activation='relu')(pack)\n",
        "pack=Dense(512,activation='relu')(pack)\n",
        "pack=Dense(512,activation='relu')(pack)\n",
        "pack=Dense(512,activation='relu')(pack)\n",
        "pack=Dense(512,activation='relu')(pack)\n",
        "pack=Dense(512,activation='relu')(pack)\n",
        "pack=Dense(512,activation='relu')(pack)\n",
        "pack=Dense(512,activation='relu')(pack)\n",
        "pack=Dense(512,activation='tanh')(pack)\n",
        "pack=Dense(y_train.shape[1],activation='softmax',name='pack')(pack)\n",
        "model=Model(inputs=inputs,outputs=[pack])\n",
        "#model.summary()"
      ],
      "execution_count": 86,
      "outputs": []
    },
    {
      "cell_type": "code",
      "metadata": {
        "id": "gKaWmk5Tu6LP"
      },
      "source": [
        "from keras import optimizers\n",
        "adm=optimizers.Adam( lr=0.0001,beta_1=0.9, beta_2=0.999, amsgrad=False)"
      ],
      "execution_count": 87,
      "outputs": []
    },
    {
      "cell_type": "code",
      "metadata": {
        "id": "P1_h74KLu9QL",
        "outputId": "559a8f1f-2846-40a2-ab1d-4ca2a9d27b5c",
        "colab": {
          "base_uri": "https://localhost:8080/",
          "height": 35
        }
      },
      "source": [
        "from keras.callbacks import EarlyStopping, ModelCheckpoint, TensorBoard\n",
        "checkpoint = ModelCheckpoint('/content/drive/My Drive/pack_reco_engine_allpacks.h5', \n",
        "                             monitor='val_loss', \n",
        "                             verbose=1, \n",
        "                             save_best_only=True, \n",
        "                             mode='min', \n",
        "                             period=1)"
      ],
      "execution_count": 88,
      "outputs": [
        {
          "output_type": "stream",
          "text": [
            "WARNING:tensorflow:`period` argument is deprecated. Please use `save_freq` to specify the frequency in number of batches seen.\n"
          ],
          "name": "stdout"
        }
      ]
    },
    {
      "cell_type": "code",
      "metadata": {
        "id": "QQ-DgAe5sbXD"
      },
      "source": [
        "import keras.backend as K\n",
        "import tensorflow as tf\n",
        "\n",
        "def loss(y_true, y_pred):\n",
        "  y_true=K.cast(y_true,'float32')\n",
        "  y_pred=K.cast(y_pred,'float32')\n",
        "  # scale predictions so that the class probas of each sample sum to 1\n",
        "  y_pred /= K.sum(y_pred, axis=-1, keepdims=True)\n",
        "  # clip to prevent NaN's and Inf's\n",
        "  y_pred = K.clip(y_pred, K.epsilon(), 1 - K.epsilon())\n",
        "  # calc\n",
        "  loss = y_true * K.log(y_pred) * K.sum(y_true,axis=1, keepdims=True)\n",
        "  loss = -K.sum(loss, -1)\n",
        "  return loss"
      ],
      "execution_count": 5,
      "outputs": []
    },
    {
      "cell_type": "code",
      "metadata": {
        "id": "vYLUwqFXjWR2"
      },
      "source": [
        "def loss(y_true, y_pred):\n",
        "    y_true=K.cast(y_true,'float32')\n",
        "    y_pred=K.cast(y_pred,'float32')\n",
        "    gamma = 2.0 \n",
        "    alpha = 0.25\n",
        "    pt_1 = tf.where(tf.equal(y_true, 1), y_pred, tf.ones_like(y_pred))\n",
        "    pt_0 = tf.where(tf.equal(y_true, 0), y_pred, tf.zeros_like(y_pred))\n",
        "    return -K.sum(alpha * K.pow(1. - pt_1, gamma) * K.log(pt_1))-K.sum((1-alpha) * K.pow( pt_0, gamma) * K.log(1. - pt_0))\n"
      ],
      "execution_count": 4,
      "outputs": []
    },
    {
      "cell_type": "code",
      "metadata": {
        "id": "J-ePHtKg06co"
      },
      "source": [
        "from datetime import datetime\n",
        "logdir = \"logs/scalars/\" + datetime.now().strftime(\"%Y%m%d-%H%M%S\")\n",
        "tensorboard_callback = keras.callbacks.TensorBoard(log_dir=logdir)"
      ],
      "execution_count": 91,
      "outputs": []
    },
    {
      "cell_type": "code",
      "metadata": {
        "id": "CnbGtwmByIFl"
      },
      "source": [
        "model.compile(loss=loss,optimizer=adm, metrics=['accuracy'])\n",
        "model.fit(x_train, y_train, epochs=100,validation_data=(x_test,y_test),verbose=1,batch_size=512,callbacks=[checkpoint,tensorboard_callback])"
      ],
      "execution_count": null,
      "outputs": []
    },
    {
      "cell_type": "code",
      "metadata": {
        "id": "C5hjU_522N2o"
      },
      "source": [
        "!kill 2160\n",
        "%load_ext tensorboard\n",
        "%tensorboard --logdir logs/scalars"
      ],
      "execution_count": null,
      "outputs": []
    },
    {
      "cell_type": "code",
      "metadata": {
        "id": "4LWgg097OLWF"
      },
      "source": [
        "custom_objects={'my_custom_func':                   \n",
        "my_custom_func}"
      ],
      "execution_count": null,
      "outputs": []
    },
    {
      "cell_type": "code",
      "metadata": {
        "id": "rIBf9XXVNg1k"
      },
      "source": [
        "import numpy as np\n",
        "import tensorflow as tf\n",
        "np.set_printoptions(suppress=True)\n",
        "model=tf.keras.models.load_model(\"/content/drive/My Drive/pack_reco_engine_allpacks.h5\",custom_objects={'loss':loss})\n",
        "p=model.predict(x_test)"
      ],
      "execution_count": 7,
      "outputs": []
    },
    {
      "cell_type": "code",
      "metadata": {
        "id": "kiSJmJKygJVz",
        "outputId": "4432074d-1635-4634-ba71-c2e6e9d57a4c",
        "colab": {
          "base_uri": "https://localhost:8080/",
          "height": 692
        }
      },
      "source": [
        "print(classification_report(pred_class,actual))"
      ],
      "execution_count": 80,
      "outputs": [
        {
          "output_type": "stream",
          "text": [
            "              precision    recall  f1-score   support\n",
            "\n",
            "           0       0.86      0.74      0.79    416434\n",
            "           1       0.02      0.26      0.04       308\n",
            "           2       0.41      0.62      0.49     29750\n",
            "           3       0.20      0.31      0.25      4534\n",
            "           4       0.42      0.50      0.46     22504\n",
            "           5       0.01      0.08      0.02       663\n",
            "           6       0.09      0.14      0.11      7751\n",
            "           7       0.31      0.54      0.39      4388\n",
            "           8       0.42      0.45      0.44     42994\n",
            "           9       0.66      0.65      0.65     73073\n",
            "          10       0.46      0.58      0.51     21015\n",
            "          11       0.28      0.46      0.35      9001\n",
            "          12       0.02      0.11      0.04       251\n",
            "          13       0.10      0.21      0.14       870\n",
            "          14       0.55      0.71      0.62     22401\n",
            "          15       0.41      0.42      0.41     15336\n",
            "          16       0.59      0.70      0.64      5602\n",
            "          17       0.39      0.41      0.40      4193\n",
            "          18       0.14      0.31      0.19       533\n",
            "          19       0.43      0.40      0.42       942\n",
            "          20       0.69      0.68      0.69     34753\n",
            "          21       0.61      0.55      0.58     18446\n",
            "          22       0.55      0.61      0.58     10950\n",
            "          23       0.10      0.17      0.13      1234\n",
            "          24       0.00      0.00      0.00         6\n",
            "          25       0.33      0.21      0.26      1200\n",
            "          26       0.43      0.22      0.29       708\n",
            "          27       0.00      0.00      0.00         8\n",
            "          28       0.27      0.07      0.11        99\n",
            "          29       0.12      0.14      0.13        44\n",
            "          30       0.00      0.00      0.00         9\n",
            "\n",
            "    accuracy                           0.66    750000\n",
            "   macro avg       0.32      0.36      0.33    750000\n",
            "weighted avg       0.70      0.66      0.68    750000\n",
            "\n"
          ],
          "name": "stdout"
        }
      ]
    },
    {
      "cell_type": "code",
      "metadata": {
        "id": "efdq96ZTOv_j",
        "outputId": "ad6ac602-94a1-45fc-bb2f-1d9cd0eb184c",
        "colab": {
          "base_uri": "https://localhost:8080/",
          "height": 748
        }
      },
      "source": [
        "pred_class=np.argmax(p, axis=1)\n",
        "actual=np.argmax(y_test.to_numpy(),axis=1)\n",
        "from sklearn.metrics import classification_report\n",
        "print(classification_report(pred_class,actual))"
      ],
      "execution_count": 11,
      "outputs": [
        {
          "output_type": "stream",
          "text": [
            "/usr/local/lib/python3.6/dist-packages/sklearn/metrics/_classification.py:1272: UndefinedMetricWarning: Recall and F-score are ill-defined and being set to 0.0 in labels with no true samples. Use `zero_division` parameter to control this behavior.\n",
            "  _warn_prf(average, modifier, msg_start, len(result))\n"
          ],
          "name": "stderr"
        },
        {
          "output_type": "stream",
          "text": [
            "              precision    recall  f1-score   support\n",
            "\n",
            "           0       1.00      0.48      0.65    749495\n",
            "           1       0.00      0.00      0.00         3\n",
            "           2       0.00      0.22      0.00       200\n",
            "           3       0.00      0.07      0.00        28\n",
            "           4       0.00      0.11      0.00        18\n",
            "           5       0.00      0.00      0.00         0\n",
            "           6       0.00      0.00      0.00         0\n",
            "           7       0.00      0.00      0.00        10\n",
            "           8       0.00      0.00      0.00         1\n",
            "           9       0.00      0.00      0.00         1\n",
            "          10       0.00      0.33      0.00         3\n",
            "          11       0.00      0.30      0.00        53\n",
            "          12       0.00      0.00      0.00         0\n",
            "          13       0.00      0.00      0.00         1\n",
            "          14       0.00      0.00      0.00         1\n",
            "          15       0.00      0.00      0.00         0\n",
            "          16       0.00      0.48      0.01        61\n",
            "          17       0.00      0.25      0.00         4\n",
            "          18       0.00      0.00      0.00         0\n",
            "          19       0.00      0.08      0.00        24\n",
            "          20       0.00      0.29      0.00        14\n",
            "          21       0.00      0.33      0.00         3\n",
            "          22       0.00      0.50      0.00         4\n",
            "          23       0.00      0.13      0.01        47\n",
            "          24       0.00      0.00      0.00         0\n",
            "          25       0.00      0.08      0.01        24\n",
            "          26       0.00      0.00      0.00         0\n",
            "          27       0.00      0.00      0.00         0\n",
            "          28       0.00      0.00      0.00         2\n",
            "          29       0.00      0.00      0.00         3\n",
            "          30       0.00      0.00      0.00         0\n",
            "\n",
            "    accuracy                           0.48    750000\n",
            "   macro avg       0.03      0.12      0.02    750000\n",
            "weighted avg       1.00      0.48      0.65    750000\n",
            "\n"
          ],
          "name": "stdout"
        }
      ]
    },
    {
      "cell_type": "code",
      "metadata": {
        "id": "P7asHaGXX6pd",
        "outputId": "bf6ba47d-68b4-4e9d-d3e4-590cd7b5788b",
        "colab": {
          "base_uri": "https://localhost:8080/",
          "height": 315
        }
      },
      "source": [
        "pd.Series(y_test).value_counts()"
      ],
      "execution_count": 57,
      "outputs": [
        {
          "output_type": "error",
          "ename": "ValueError",
          "evalue": "ignored",
          "traceback": [
            "\u001b[0;31m---------------------------------------------------------------------------\u001b[0m",
            "\u001b[0;31mValueError\u001b[0m                                Traceback (most recent call last)",
            "\u001b[0;32m<ipython-input-57-fa9bc2d1c144>\u001b[0m in \u001b[0;36m<module>\u001b[0;34m()\u001b[0m\n\u001b[0;32m----> 1\u001b[0;31m \u001b[0mpd\u001b[0m\u001b[0;34m.\u001b[0m\u001b[0mSeries\u001b[0m\u001b[0;34m(\u001b[0m\u001b[0my_test\u001b[0m\u001b[0;34m)\u001b[0m\u001b[0;34m.\u001b[0m\u001b[0mvalue_counts\u001b[0m\u001b[0;34m(\u001b[0m\u001b[0;34m)\u001b[0m\u001b[0;34m\u001b[0m\u001b[0;34m\u001b[0m\u001b[0m\n\u001b[0m",
            "\u001b[0;32m/usr/local/lib/python3.6/dist-packages/pandas/core/series.py\u001b[0m in \u001b[0;36m__init__\u001b[0;34m(self, data, index, dtype, name, copy, fastpath)\u001b[0m\n\u001b[1;32m    229\u001b[0m             \u001b[0mname\u001b[0m \u001b[0;34m=\u001b[0m \u001b[0mibase\u001b[0m\u001b[0;34m.\u001b[0m\u001b[0mmaybe_extract_name\u001b[0m\u001b[0;34m(\u001b[0m\u001b[0mname\u001b[0m\u001b[0;34m,\u001b[0m \u001b[0mdata\u001b[0m\u001b[0;34m,\u001b[0m \u001b[0mtype\u001b[0m\u001b[0;34m(\u001b[0m\u001b[0mself\u001b[0m\u001b[0;34m)\u001b[0m\u001b[0;34m)\u001b[0m\u001b[0;34m\u001b[0m\u001b[0;34m\u001b[0m\u001b[0m\n\u001b[1;32m    230\u001b[0m \u001b[0;34m\u001b[0m\u001b[0m\n\u001b[0;32m--> 231\u001b[0;31m             \u001b[0;32mif\u001b[0m \u001b[0mis_empty_data\u001b[0m\u001b[0;34m(\u001b[0m\u001b[0mdata\u001b[0m\u001b[0;34m)\u001b[0m \u001b[0;32mand\u001b[0m \u001b[0mdtype\u001b[0m \u001b[0;32mis\u001b[0m \u001b[0;32mNone\u001b[0m\u001b[0;34m:\u001b[0m\u001b[0;34m\u001b[0m\u001b[0;34m\u001b[0m\u001b[0m\n\u001b[0m\u001b[1;32m    232\u001b[0m                 \u001b[0;31m# gh-17261\u001b[0m\u001b[0;34m\u001b[0m\u001b[0;34m\u001b[0m\u001b[0;34m\u001b[0m\u001b[0m\n\u001b[1;32m    233\u001b[0m                 warnings.warn(\n",
            "\u001b[0;32m/usr/local/lib/python3.6/dist-packages/pandas/core/construction.py\u001b[0m in \u001b[0;36mis_empty_data\u001b[0;34m(data)\u001b[0m\n\u001b[1;32m    594\u001b[0m     \u001b[0mis_none\u001b[0m \u001b[0;34m=\u001b[0m \u001b[0mdata\u001b[0m \u001b[0;32mis\u001b[0m \u001b[0;32mNone\u001b[0m\u001b[0;34m\u001b[0m\u001b[0;34m\u001b[0m\u001b[0m\n\u001b[1;32m    595\u001b[0m     \u001b[0mis_list_like_without_dtype\u001b[0m \u001b[0;34m=\u001b[0m \u001b[0mis_list_like\u001b[0m\u001b[0;34m(\u001b[0m\u001b[0mdata\u001b[0m\u001b[0;34m)\u001b[0m \u001b[0;32mand\u001b[0m \u001b[0;32mnot\u001b[0m \u001b[0mhasattr\u001b[0m\u001b[0;34m(\u001b[0m\u001b[0mdata\u001b[0m\u001b[0;34m,\u001b[0m \u001b[0;34m\"dtype\"\u001b[0m\u001b[0;34m)\u001b[0m\u001b[0;34m\u001b[0m\u001b[0;34m\u001b[0m\u001b[0m\n\u001b[0;32m--> 596\u001b[0;31m     \u001b[0mis_simple_empty\u001b[0m \u001b[0;34m=\u001b[0m \u001b[0mis_list_like_without_dtype\u001b[0m \u001b[0;32mand\u001b[0m \u001b[0;32mnot\u001b[0m \u001b[0mdata\u001b[0m\u001b[0;34m\u001b[0m\u001b[0;34m\u001b[0m\u001b[0m\n\u001b[0m\u001b[1;32m    597\u001b[0m     \u001b[0;32mreturn\u001b[0m \u001b[0mis_none\u001b[0m \u001b[0;32mor\u001b[0m \u001b[0mis_simple_empty\u001b[0m\u001b[0;34m\u001b[0m\u001b[0;34m\u001b[0m\u001b[0m\n\u001b[1;32m    598\u001b[0m \u001b[0;34m\u001b[0m\u001b[0m\n",
            "\u001b[0;32m/usr/local/lib/python3.6/dist-packages/pandas/core/generic.py\u001b[0m in \u001b[0;36m__nonzero__\u001b[0;34m(self)\u001b[0m\n\u001b[1;32m   1328\u001b[0m     \u001b[0;32mdef\u001b[0m \u001b[0m__nonzero__\u001b[0m\u001b[0;34m(\u001b[0m\u001b[0mself\u001b[0m\u001b[0;34m)\u001b[0m\u001b[0;34m:\u001b[0m\u001b[0;34m\u001b[0m\u001b[0;34m\u001b[0m\u001b[0m\n\u001b[1;32m   1329\u001b[0m         raise ValueError(\n\u001b[0;32m-> 1330\u001b[0;31m             \u001b[0;34mf\"The truth value of a {type(self).__name__} is ambiguous. \"\u001b[0m\u001b[0;34m\u001b[0m\u001b[0;34m\u001b[0m\u001b[0m\n\u001b[0m\u001b[1;32m   1331\u001b[0m             \u001b[0;34m\"Use a.empty, a.bool(), a.item(), a.any() or a.all().\"\u001b[0m\u001b[0;34m\u001b[0m\u001b[0;34m\u001b[0m\u001b[0m\n\u001b[1;32m   1332\u001b[0m         )\n",
            "\u001b[0;31mValueError\u001b[0m: The truth value of a DataFrame is ambiguous. Use a.empty, a.bool(), a.item(), a.any() or a.all()."
          ]
        }
      ]
    },
    {
      "cell_type": "code",
      "metadata": {
        "id": "ZWSsgN_BvfYS"
      },
      "source": [
        "from sklearn.ensemble import RandomForestClassifier\n",
        "\n",
        "#Create a Gaussian Classifier\n",
        "clf=RandomForestClassifier(n_estimators=10,verbose=1)\n",
        "clf.fit(x_train,y_train)\n",
        "\n"
      ],
      "execution_count": null,
      "outputs": []
    },
    {
      "cell_type": "code",
      "metadata": {
        "id": "zYr8hjR4zm1i",
        "outputId": "da2ea465-fccc-4101-eca3-8337a4ca346f",
        "colab": {
          "base_uri": "https://localhost:8080/",
          "height": 35
        }
      },
      "source": [
        "len(pd.Series(pred_class).value_counts())"
      ],
      "execution_count": 64,
      "outputs": [
        {
          "output_type": "execute_result",
          "data": {
            "text/plain": [
              "31"
            ]
          },
          "metadata": {
            "tags": []
          },
          "execution_count": 64
        }
      ]
    },
    {
      "cell_type": "code",
      "metadata": {
        "id": "i4ZZcJqaQaEO"
      },
      "source": [
        "top3_packs=np.argsort(-p)[:,:3]\n",
        "eval=[]\n",
        "for i in actual:\n",
        "  if pd.Series(i).isin(top3_packs[i,:]).bool():\n",
        "    eval.append(1) \n",
        "  else:\n",
        "    eval.append(0)\n"
      ],
      "execution_count": 12,
      "outputs": []
    },
    {
      "cell_type": "code",
      "metadata": {
        "id": "7d_hspakT_tU",
        "outputId": "5d2f9c18-8eeb-42ed-edb5-7a83f5652867",
        "colab": {
          "base_uri": "https://localhost:8080/",
          "height": 70
        }
      },
      "source": [
        "pd.Series(eval).value_counts()/len(eval)"
      ],
      "execution_count": 13,
      "outputs": [
        {
          "output_type": "execute_result",
          "data": {
            "text/plain": [
              "1    0.632661\n",
              "0    0.367339\n",
              "dtype: float64"
            ]
          },
          "metadata": {
            "tags": []
          },
          "execution_count": 13
        }
      ]
    },
    {
      "cell_type": "code",
      "metadata": {
        "id": "uIjjzOX2RrmY"
      },
      "source": [
        "from sklearn.metrics import classification_report\n",
        "print(classification_report(eval,actual))"
      ],
      "execution_count": null,
      "outputs": []
    }
  ]
}